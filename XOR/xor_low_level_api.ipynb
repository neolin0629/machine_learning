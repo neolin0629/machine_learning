{
 "cells": [
  {
   "cell_type": "code",
   "execution_count": 3,
   "metadata": {},
   "outputs": [],
   "source": [
    "import numpy as np\n",
    "import tensorflow as tf\n",
    "\n",
    "x = tf.placeholder(tf.float32, shape=[4,2], name='x')\n",
    "y = tf.placeholder(tf.float32, shape=[4,1], name='y')\n",
    "\n",
    "XOR_X = [[0,0],[0,1],[1,0],[1,1]]\n",
    "XOR_Y = [[0],[1],[1],[0]]"
   ]
  },
  {
   "cell_type": "markdown",
   "metadata": {},
   "source": [
    "## 使用设定好的weight和bias，参考DL_Chapter.6_Page.179"
   ]
  },
  {
   "cell_type": "code",
   "execution_count": 4,
   "metadata": {},
   "outputs": [
    {
     "name": "stdout",
     "output_type": "stream",
     "text": [
      "XOR problem:  mse=0.0, y prediction: \n",
      "[[0.]\n",
      " [1.]\n",
      " [1.]\n",
      " [0.]]\n"
     ]
    }
   ],
   "source": [
    "# 1. with no parameters\n",
    "with tf.variable_scope(\"hidden_layer\") as scope:\n",
    "    w1 = tf.constant([[1, 1],[1, 1]], shape=[2, 2], dtype=tf.float32)\n",
    "    b1 = tf.constant([0, -1], shape=[2,], dtype=tf.float32)\n",
    "    x_ = tf.nn.relu(tf.add(tf.matmul(x, w1), b1))\n",
    "\n",
    "with tf.variable_scope(\"output\") as scope:\n",
    "    w2 = tf.constant([[1], [-2]], shape=[2, 1], dtype=tf.float32)\n",
    "    b2 = tf.constant([0], shape=[1,], dtype=tf.float32)\n",
    "    y_ = tf.add(tf.matmul(x_, w2), b2)\n",
    "    \n",
    "loss = tf.reduce_mean(tf.square(y - y_))\n",
    "\n",
    "with tf.Session() as sess:\n",
    "    x, pred, l = sess.run([x_, y_, loss], feed_dict={x: XOR_X, y: XOR_Y})\n",
    "    print(f\"XOR problem:  mse={l}, y prediction: \\n{pred}\")    "
   ]
  },
  {
   "cell_type": "code",
   "execution_count": null,
   "metadata": {},
   "outputs": [],
   "source": []
  }
 ],
 "metadata": {
  "kernelspec": {
   "display_name": "jupyter_36",
   "language": "python",
   "name": "jupyter_36"
  },
  "language_info": {
   "codemirror_mode": {
    "name": "ipython",
    "version": 3
   },
   "file_extension": ".py",
   "mimetype": "text/x-python",
   "name": "python",
   "nbconvert_exporter": "python",
   "pygments_lexer": "ipython3",
   "version": "3.6.7"
  }
 },
 "nbformat": 4,
 "nbformat_minor": 2
}
