{
 "cells": [
  {
   "cell_type": "markdown",
   "metadata": {},
   "source": [
    "# How to Develop LSTM Models for Time Series Forecasting\n",
    "[TOC]\n",
    "## Univariate LSTM Models\n",
    "### Data Preparation\n",
    "把时间序列的数据，切分成相同的观察窗口，并分配好对应的结果标签（观测窗口后的数据值）\n",
    "\n",
    "### Vanilla LSTM\n",
    "A Vanilla LSTM is an LSTM model that has a single hidden layer of LSTM units, and an output layer used to make a prediction.\n",
    "\n",
    "### Stacked LSTM\n",
    "\n",
    "### Bidirectional LSTM\n",
    "\n",
    "### CNN LSTM\n",
    "\n",
    "### ConvLSTM\n",
    "使用5D的数据(batchsize, timestamps, channel size, row, column)\n",
    "\n",
    "## Reference\n",
    "[How to Develop LSTM Models for Time Series Forecasting](https://machinelearningmastery.com/how-to-develop-lstm-models-for-time-series-forecasting/)\n",
    "\n",
    "[理解LSTM网络](https://www.jianshu.com/p/9dc9f41f0b29)\n",
    "[人人都能看懂的LSTM](https://zhuanlan.zhihu.com/p/32085405)"
   ]
  },
  {
   "cell_type": "code",
   "execution_count": 5,
   "metadata": {},
   "outputs": [
    {
     "name": "stdout",
     "output_type": "stream",
     "text": [
      "[[[[60]\n",
      "   [70]]\n",
      "\n",
      "  [[80]\n",
      "   [90]]]]\n"
     ]
    }
   ],
   "source": [
    "from numpy import array\n",
    "x_input = array([60, 70, 80, 90])\n",
    "x_input = x_input.reshape((1, 2, 2, 1))\n",
    "print(x_input)"
   ]
  },
  {
   "cell_type": "code",
   "execution_count": null,
   "metadata": {},
   "outputs": [],
   "source": []
  }
 ],
 "metadata": {
  "kernelspec": {
   "display_name": "jupyter_36",
   "language": "python",
   "name": "jupyter_36"
  },
  "language_info": {
   "codemirror_mode": {
    "name": "ipython",
    "version": 3
   },
   "file_extension": ".py",
   "mimetype": "text/x-python",
   "name": "python",
   "nbconvert_exporter": "python",
   "pygments_lexer": "ipython3",
   "version": "3.6.7"
  }
 },
 "nbformat": 4,
 "nbformat_minor": 2
}
