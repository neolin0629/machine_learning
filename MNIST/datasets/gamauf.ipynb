{
 "cells": [
  {
   "cell_type": "code",
   "execution_count": 1,
   "metadata": {},
   "outputs": [],
   "source": [
    "import tensorflow as tf"
   ]
  },
  {
   "cell_type": "markdown",
   "metadata": {},
   "source": [
    "# [Tensorflow Records? What they are and how to use them](https://medium.com/mostly-ai/tensorflow-records-what-they-are-and-how-to-use-them-c46bc4bbb564)"
   ]
  },
  {
   "cell_type": "markdown",
   "metadata": {},
   "source": [
    "Interest in `Tensorflow` has increased steadily since its introduction in November 2015. A lesser-known component of `Tensorflow` is the [TFRecord file format](https://www.tensorflow.org/api_docs/python/tf/io), Tensorflow’s own binary storage format.\n",
    "\n",
    "If you are working with large datasets, using a binary file format for storage of your data can have a significant impact on the performance of your import pipeline and as a consequence on the training time of your model. Binary data takes up less space on disk, takes less time to copy and can be read much more efficiently from disk. This is especially true if your data is stored on spinning disks, due to the much lower read/write performance in comparison with SSDs.\n",
    "\n",
    "However, pure performance isn’t the only advantage of the `TFRecord` file format. It is optimized for use with `Tensorflow` in multiple ways. To start with, it makes it easy to combine multiple datasets and integrates seamlessly with the data import and preprocessing functionality provided by the library. Especially for datasets that are too large to be stored fully in memory this is an advantage as only the data that is required at the time (e.g. a batch) is loaded from disk and then processed. Another major advantage of `TFRecords` is that it is possible to store sequence data — for instance, a time series or word encodings — in a way that allows for very efficient and (from a coding perspective) convenient import of this type of data. Check out the [Reading Data](https://www.tensorflow.org/api_guides/python/reading_data) guide to learn more about reading TFRecord files.\n",
    "\n",
    "So, there are a lot of advantages to using `TFRecords`. But where there is light, there must be shadow and in the case of `TFRecords` the downside is that you have to convert your data to this format in the first place and only limited documentation is available on how to do that. An [official tutorial](https://github.com/tensorflow/tensorflow/blob/master/tensorflow/examples/how_tos/reading_data/convert_to_records.py) and a number of articles about writing TFRecords exist, but I found that they only got me covered part of the way to solve my challenge.\n",
    "\n",
    "In this post I will explain the components required to structure and write a `TFRecord` file, and explain in detail how to write different types of data. This will help you get started to tackle your own challenges."
   ]
  },
  {
   "cell_type": "markdown",
   "metadata": {},
   "source": [
    "## Structuring TFRecords\n",
    "A `TFRecord` file stores your data as a sequence of binary strings. This means you need to specify the structure of your data before you write it to the file. `Tensorflow` provides two components for this purpose: [tf.train.Example](https://www.tensorflow.org/api_docs/python/tf/train/Example) and [tf.train.SequenceExample](https://www.tensorflow.org/api_docs/python/tf/train/SequenceExample). You have to store each sample of your data in one of these structures, then serialize it and use a [tf.python_io.TFRecordWriter](https://www.tensorflow.org/api_docs/python/tf/io/TFRecordWriter) to write it to disk.\n",
    "> `tf.train.Example` isn’t a normal Python class, but a [protocol buffer](https://en.wikipedia.org/wiki/Protocol_Buffers).\n",
    "\n",
    "As a software developer, the main problem I had at the beginning was that many of the components in the `Tensorflow` API don’t have a description of the attributes or methods of the class. For instance, for `tf.train.Example` only a “.proto” file with cryptic structures called “message” is provided, along with examples in pseudocode. The reason for this is that `tf.train.Example` isn’t a normal Python class, but a [protocol buffer](https://en.wikipedia.org/wiki/Protocol_Buffers). A protocol buffer is a method developed by Google to serialize structured data in an efficient way. I will now discuss the two main ways to structure `Tensorflow` `TFRecords`, give an overview of the components from a developers view and provide a detailed example of how to use `tf.train.Example` and `tf.train.SequenceExample`."
   ]
  },
  {
   "cell_type": "markdown",
   "metadata": {},
   "source": [
    "## Movie recommendations using `tf.train.Example`\n",
    "> If your dataset consist of features, where each feature is a list of values of the same type, tf.train.Example is the right component to use.\n",
    "\n",
    "Let’s use the movie recommendation application from the [Tensorflow documentation](https://github.com/tensorflow/tensorflow/blob/r1.5/tensorflow/core/example/example.proto) as an example:\n",
    "\n",
    "|Age|Movie|Movie Ratings|Suggestion|Suggestion Purchased|Purchase Price|\n",
    "|---|:---:|---|---|---|---|\n",
    "|29|The Shawshank Redemption|9.0|Inception|1.0|9.99|\n",
    "| &nbsp; |Fight Club|9.7| &nbsp; | &nbsp; | &nbsp; |\n",
    "\n",
    "We have a number of features, each being a list where every entry has the same data type. In order to store these features in a TFRecord, we fist need to create the lists that constitute the features.\n",
    "\n",
    "[tf.train.BytesList](https://www.tensorflow.org/api_docs/python/tf/train/BytesList), [tf.train.FloatList](https://www.tensorflow.org/api_docs/python/tf/train/FloatList), and [tf.train.Int64List](https://www.tensorflow.org/api_docs/python/tf/train/Int64List) are at the core of a [tf.train.Feature](https://www.tensorflow.org/api_docs/python/tf/train/Feature). All three have a single attribute value, which expects a list of respective bytes, float, and int."
   ]
  },
  {
   "cell_type": "code",
   "execution_count": 2,
   "metadata": {},
   "outputs": [],
   "source": [
    "movie_name_list = tf.train.BytesList(value=[b'The Shawshank Redemption', b'Fight Club'])\n",
    "movie_rating_list = tf.train.FloatList(value=[9.0, 9.7])"
   ]
  },
  {
   "cell_type": "markdown",
   "metadata": {},
   "source": [
    "Python strings need to be converted to bytes, (e.g. `my_string.encode`(‘utf-8’)) before they are stored in a `tf.train.BytesList`.\n",
    "\n",
    "[tf.train.Feature](https://www.tensorflow.org/api_docs/python/tf/train/Feature) wraps a list of data of a specific type so Tensorflow can understand it. It has a single attribute, which is a union of `bytes_list/float_list/int64_list`. Being a union, the stored list can be of type `tf.train.BytesList `(attribute name `bytes_list`), `tf.train.FloatList` (attribute name `float_list`), or `tf.train.Int64List` (attribute name `int64_list`)."
   ]
  },
  {
   "cell_type": "code",
   "execution_count": 3,
   "metadata": {},
   "outputs": [],
   "source": [
    "movie_names = tf.train.Feature(bytes_list=movie_name_list)\n",
    "movie_ratings = tf.train.Feature(float_list=movie_rating_list)"
   ]
  },
  {
   "cell_type": "markdown",
   "metadata": {},
   "source": [
    "[tf.train.Feature](https://www.tensorflow.org/api_docs/python/tf/train/Feature) is a collection of named features. It has a single attribute feature that expects a dictionary where the key is the name of the features and the value a `tf.train.Feature`."
   ]
  },
  {
   "cell_type": "code",
   "execution_count": 4,
   "metadata": {},
   "outputs": [],
   "source": [
    "movie_dict = {\n",
    "  'Movie Names': movie_names,\n",
    "  'Movie Ratings': movie_ratings\n",
    "}\n",
    "movies = tf.train.Features(feature=movie_dict)"
   ]
  },
  {
   "cell_type": "markdown",
   "metadata": {},
   "source": [
    "[tf.train.Example](https://www.tensorflow.org/api_docs/python/tf/train/Example) is one of the main components for structuring a `TFRecord`. An `tf.train.Example` stores features in a single attribute features of type `tf.train.Features`."
   ]
  },
  {
   "cell_type": "code",
   "execution_count": 5,
   "metadata": {},
   "outputs": [],
   "source": [
    "example = tf.train.Example(features=movies)"
   ]
  },
  {
   "cell_type": "markdown",
   "metadata": {},
   "source": [
    "In contrast to the previous components, [tf.python_io.TFRecordWriter](https://www.tensorflow.org/api_docs/python/tf/io/TFRecordWriter) actually is a Python class. It accepts a file path in its path attribute and creates a writer object that works just like any other file object. The `TFRecordWriter` class offers write, flush and close methods. The method write accepts a string as parameter and writes it to disk, meaning that structured data must be serialized first. To this end, `tf.train.Example` and `tf.train.SequenceExample` provide `SerializeToString` methods:"
   ]
  },
  {
   "cell_type": "code",
   "execution_count": 6,
   "metadata": {},
   "outputs": [],
   "source": [
    "# \"example\" is of type tf.train.Example.\n",
    "with tf.python_io.TFRecordWriter('movie_ratings.tfrecord') as writer:\n",
    "  writer.write(example.SerializeToString())"
   ]
  },
  {
   "cell_type": "markdown",
   "metadata": {},
   "source": [
    "In our example, each `TFRecord` represents the movie ratings and corresponding suggestions of a single user (a single sample). Writing recommendations for all users in the dataset follows the same process. It is important that the type of a feature (e.g. float for the movie rating) is the same across all samples in the dataset. This conformance criterion and others are defined in the [protocol buffer definition](https://github.com/tensorflow/tensorflow/blob/r1.5/tensorflow/core/example/example.proto) of `tf.train.Example`.\n",
    "\n",
    "Here’s a complete example that writes the features to a `TFRecord` file, then reads the file back in and prints the parsed features."
   ]
  },
  {
   "cell_type": "code",
   "execution_count": 7,
   "metadata": {},
   "outputs": [
    {
     "name": "stdout",
     "output_type": "stream",
     "text": [
      "{'Age': 29, 'Movie': ['The Shawshank Redemption', 'Fight Club'], 'Movie Ratings': [9.0, 9.7], 'Suggestion': 'Inception', 'Suggestion Purchased': 1.0, 'Purchase Price': 9.99}\n"
     ]
    }
   ],
   "source": [
    "# Create example data\n",
    "data = {\n",
    "    'Age': 29,\n",
    "    'Movie': ['The Shawshank Redemption', 'Fight Club'],\n",
    "    'Movie Ratings': [9.0, 9.7],\n",
    "    'Suggestion': 'Inception',\n",
    "    'Suggestion Purchased': 1.0,\n",
    "    'Purchase Price': 9.99\n",
    "}\n",
    "\n",
    "print(data)"
   ]
  },
  {
   "cell_type": "code",
   "execution_count": 8,
   "metadata": {
    "scrolled": true
   },
   "outputs": [
    {
     "name": "stdout",
     "output_type": "stream",
     "text": [
      "features {\n",
      "  feature {\n",
      "    key: \"Age\"\n",
      "    value {\n",
      "      int64_list {\n",
      "        value: 29\n",
      "      }\n",
      "    }\n",
      "  }\n",
      "  feature {\n",
      "    key: \"Movie\"\n",
      "    value {\n",
      "      bytes_list {\n",
      "        value: \"The Shawshank Redemption\"\n",
      "        value: \"Fight Club\"\n",
      "      }\n",
      "    }\n",
      "  }\n",
      "  feature {\n",
      "    key: \"Movie Ratings\"\n",
      "    value {\n",
      "      float_list {\n",
      "        value: 9.0\n",
      "        value: 9.699999809265137\n",
      "      }\n",
      "    }\n",
      "  }\n",
      "  feature {\n",
      "    key: \"Purchase Price\"\n",
      "    value {\n",
      "      float_list {\n",
      "        value: 9.989999771118164\n",
      "      }\n",
      "    }\n",
      "  }\n",
      "  feature {\n",
      "    key: \"Suggestion\"\n",
      "    value {\n",
      "      bytes_list {\n",
      "        value: \"Inception\"\n",
      "      }\n",
      "    }\n",
      "  }\n",
      "  feature {\n",
      "    key: \"Suggestion Purchased\"\n",
      "    value {\n",
      "      float_list {\n",
      "        value: 1.0\n",
      "      }\n",
      "    }\n",
      "  }\n",
      "}\n",
      "\n"
     ]
    }
   ],
   "source": [
    "# Create the Example\n",
    "example = tf.train.Example(features=tf.train.Features(feature={\n",
    "    'Age': tf.train.Feature(\n",
    "        int64_list=tf.train.Int64List(value=[data['Age']])),\n",
    "    'Movie': tf.train.Feature(\n",
    "        bytes_list=tf.train.BytesList(\n",
    "            value=[m.encode('utf-8') for m in data['Movie']])),\n",
    "    'Movie Ratings': tf.train.Feature(\n",
    "        float_list=tf.train.FloatList(value=data['Movie Ratings'])),\n",
    "    'Suggestion': tf.train.Feature(\n",
    "        bytes_list=tf.train.BytesList(\n",
    "            value=[data['Suggestion'].encode('utf-8')])),\n",
    "    'Suggestion Purchased': tf.train.Feature(\n",
    "        float_list=tf.train.FloatList(\n",
    "            value=[data['Suggestion Purchased']])),\n",
    "    'Purchase Price': tf.train.Feature(\n",
    "        float_list=tf.train.FloatList(value=[data['Purchase Price']]))\n",
    "}))\n",
    "\n",
    "print(example)"
   ]
  },
  {
   "cell_type": "code",
   "execution_count": 9,
   "metadata": {},
   "outputs": [],
   "source": [
    "# Write TFrecord file\n",
    "with tf.python_io.TFRecordWriter('customer_1.tfrecord') as writer:\n",
    "    writer.write(example.SerializeToString())"
   ]
  },
  {
   "cell_type": "code",
   "execution_count": 10,
   "metadata": {
    "scrolled": true
   },
   "outputs": [
    {
     "name": "stdout",
     "output_type": "stream",
     "text": [
      "WARNING:tensorflow:From <ipython-input-10-2c80973f3117>:5: TFRecordReader.__init__ (from tensorflow.python.ops.io_ops) is deprecated and will be removed in a future version.\n",
      "Instructions for updating:\n",
      "Queue-based input pipelines have been replaced by `tf.data`. Use `tf.data.TFRecordDataset`.\n",
      "WARNING:tensorflow:From <ipython-input-10-2c80973f3117>:6: string_input_producer (from tensorflow.python.training.input) is deprecated and will be removed in a future version.\n",
      "Instructions for updating:\n",
      "Queue-based input pipelines have been replaced by `tf.data`. Use `tf.data.Dataset.from_tensor_slices(string_tensor).shuffle(tf.shape(input_tensor, out_type=tf.int64)[0]).repeat(num_epochs)`. If `shuffle=False`, omit the `.shuffle(...)`.\n",
      "WARNING:tensorflow:From /Users/zzhang/anaconda3/envs/tensorflow_env/lib/python3.6/site-packages/tensorflow/python/training/input.py:276: input_producer (from tensorflow.python.training.input) is deprecated and will be removed in a future version.\n",
      "Instructions for updating:\n",
      "Queue-based input pipelines have been replaced by `tf.data`. Use `tf.data.Dataset.from_tensor_slices(input_tensor).shuffle(tf.shape(input_tensor, out_type=tf.int64)[0]).repeat(num_epochs)`. If `shuffle=False`, omit the `.shuffle(...)`.\n",
      "WARNING:tensorflow:From /Users/zzhang/anaconda3/envs/tensorflow_env/lib/python3.6/site-packages/tensorflow/python/training/input.py:188: limit_epochs (from tensorflow.python.training.input) is deprecated and will be removed in a future version.\n",
      "Instructions for updating:\n",
      "Queue-based input pipelines have been replaced by `tf.data`. Use `tf.data.Dataset.from_tensors(tensor).repeat(num_epochs)`.\n",
      "WARNING:tensorflow:From /Users/zzhang/anaconda3/envs/tensorflow_env/lib/python3.6/site-packages/tensorflow/python/training/input.py:197: QueueRunner.__init__ (from tensorflow.python.training.queue_runner_impl) is deprecated and will be removed in a future version.\n",
      "Instructions for updating:\n",
      "To construct input pipelines, use the `tf.data` module.\n",
      "WARNING:tensorflow:From /Users/zzhang/anaconda3/envs/tensorflow_env/lib/python3.6/site-packages/tensorflow/python/training/input.py:197: add_queue_runner (from tensorflow.python.training.queue_runner_impl) is deprecated and will be removed in a future version.\n",
      "Instructions for updating:\n",
      "To construct input pipelines, use the `tf.data` module.\n",
      "WARNING:tensorflow:From <ipython-input-10-2c80973f3117>:25: start_queue_runners (from tensorflow.python.training.queue_runner_impl) is deprecated and will be removed in a future version.\n",
      "Instructions for updating:\n",
      "To construct input pipelines, use the `tf.data` module.\n",
      "Movie: SparseTensorValue(indices=array([[0],\n",
      "       [1]]), values=array([b'The Shawshank Redemption', b'Fight Club'], dtype=object), dense_shape=array([2]))\n",
      "Movie Ratings: SparseTensorValue(indices=array([[0],\n",
      "       [1]]), values=array([9. , 9.7], dtype=float32), dense_shape=array([2]))\n",
      "Age: 29\n",
      "Purchase Price: 9.989999771118164\n",
      "Suggestion: b'Inception'\n",
      "Suggestion Purchased: 1.0\n"
     ]
    }
   ],
   "source": [
    "# Read and print data:\n",
    "sess = tf.InteractiveSession()\n",
    "\n",
    "# Read TFRecord file\n",
    "reader = tf.TFRecordReader()\n",
    "filename_queue = tf.train.string_input_producer(['customer_1.tfrecord'])\n",
    "\n",
    "_, serialized_example = reader.read(filename_queue)\n",
    "\n",
    "# Define features\n",
    "read_features = {\n",
    "    'Age': tf.FixedLenFeature([], dtype=tf.int64),\n",
    "    'Movie': tf.VarLenFeature(dtype=tf.string),\n",
    "    'Movie Ratings': tf.VarLenFeature(dtype=tf.float32),\n",
    "    'Suggestion': tf.FixedLenFeature([], dtype=tf.string),\n",
    "    'Suggestion Purchased': tf.FixedLenFeature([], dtype=tf.float32),\n",
    "    'Purchase Price': tf.FixedLenFeature([], dtype=tf.float32)}\n",
    "\n",
    "# Extract features from serialized data\n",
    "read_data = tf.parse_single_example(serialized=serialized_example,\n",
    "                                    features=read_features)\n",
    "\n",
    "# Many tf.train functions use tf.train.QueueRunner,\n",
    "# so we need to start it before we read\n",
    "tf.train.start_queue_runners(sess)\n",
    "\n",
    "# Print features\n",
    "for name, tensor in read_data.items():\n",
    "    print('{}: {}'.format(name, tensor.eval()))"
   ]
  },
  {
   "cell_type": "markdown",
   "metadata": {},
   "source": [
    "Now that we’ve covered the structure of `TFRecords`, the process of reading them is straightforward:\n",
    "   1. Read the TFRecord using a [tf.TFRecordReader](https://www.tensorflow.org/api_docs/python/tf/TFRecordReader).\n",
    "   2. Define the features you expect in the `TFRecord` by using [tf.FixedLenFeature](https://www.tensorflow.org/api_docs/python/tf/io/FixedLenFeature) and [tf.VarLenFeature](https://www.tensorflow.org/api_docs/python/tf/io/VarLenFeature), depending on what has been defined during the definition of `tf.train.Example`.\n",
    "   3. Parse one `tf.train.Example` (one file) a time using [tf.parse_single_example](https://www.tensorflow.org/api_docs/python/tf/io/parse_single_example)."
   ]
  },
  {
   "cell_type": "code",
   "execution_count": null,
   "metadata": {},
   "outputs": [],
   "source": []
  }
 ],
 "metadata": {
  "kernelspec": {
   "display_name": "Python 3",
   "language": "python",
   "name": "python3"
  },
  "language_info": {
   "codemirror_mode": {
    "name": "ipython",
    "version": 3
   },
   "file_extension": ".py",
   "mimetype": "text/x-python",
   "name": "python",
   "nbconvert_exporter": "python",
   "pygments_lexer": "ipython3",
   "version": "3.6.6"
  }
 },
 "nbformat": 4,
 "nbformat_minor": 2
}
